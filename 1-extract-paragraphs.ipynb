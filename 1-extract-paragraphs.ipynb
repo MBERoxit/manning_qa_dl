{
 "cells": [
  {
   "cell_type": "code",
   "execution_count": 61,
   "metadata": {},
   "outputs": [],
   "source": [
    "import pymupdf4llm\n",
    "import sys, pathlib, pymupdf\n",
    "import re\n",
    "import pandas as pd"
   ]
  },
  {
   "cell_type": "code",
   "execution_count": 62,
   "metadata": {},
   "outputs": [],
   "source": [
    "# Remove column width limit\n",
    "pd.set_option('display.max_colwidth', None)\n",
    "\n",
    "# Optional: show all columns (if you have many)\n",
    "pd.set_option('display.max_columns', None)\n",
    "\n",
    "# Optional: show all rows\n",
    "pd.set_option('display.max_rows', None)"
   ]
  },
  {
   "cell_type": "code",
   "execution_count": 63,
   "metadata": {},
   "outputs": [],
   "source": [
    "eu_finance_fname = \"200309-sustainable-finance-teg-final-report-taxonomy-annexes_en.pdf\""
   ]
  },
  {
   "cell_type": "markdown",
   "metadata": {},
   "source": [
    "## Load pdf-data"
   ]
  },
  {
   "cell_type": "code",
   "execution_count": 64,
   "metadata": {},
   "outputs": [],
   "source": [
    "\n",
    "with pymupdf.open(f\"data/{eu_finance_fname}\") as doc:  # open document\n",
    "    text = chr(12).join([page.get_text() for page in doc])"
   ]
  },
  {
   "cell_type": "code",
   "execution_count": 65,
   "metadata": {},
   "outputs": [],
   "source": [
    "# write as a binary file to support non-ASCII characters\n",
    "# pathlib.Path(f\"data/{eu_finance_fname}.txt\").write_bytes(text.encode())"
   ]
  },
  {
   "cell_type": "markdown",
   "metadata": {},
   "source": [
    "## Split into Paragraphs"
   ]
  },
  {
   "cell_type": "code",
   "execution_count": 66,
   "metadata": {},
   "outputs": [
    {
     "data": {
      "text/plain": [
       "2148"
      ]
     },
     "execution_count": 66,
     "metadata": {},
     "output_type": "execute_result"
    }
   ],
   "source": [
    "#use four space as paragraph delimiter to convert the text into list of paragraphs.\n",
    "paragraphs = re.split('\\s{4,}', text)\n",
    "len(paragraphs)"
   ]
  },
  {
   "cell_type": "markdown",
   "metadata": {},
   "source": [
    "### Clean data"
   ]
  },
  {
   "cell_type": "code",
   "execution_count": 67,
   "metadata": {},
   "outputs": [],
   "source": [
    "\n",
    "def clean_text(text: str):\n",
    "    # Remove all non-ASCII characters\n",
    "    cleaned = re.sub(r'[^\\x00-\\x7F]+', '', text)\n",
    "    # Remove two-digit hex patterns\n",
    "    # cleaned = re.sub(r'\\b[0-9A-Fa-f]{2}\\b', '', cleaned)\n",
    "\n",
    "    # Keep only letters, numbers, and basic punctuation\n",
    "    cleaned = re.sub(r'[^\\w\\s.,!?\\'\\\"()-]', '', cleaned)\n",
    "\n",
    "    # \\t = tab\n",
    "    # \\n newline\n",
    "    # \\u2022 = • (Unicode bullet)\n",
    "    # - and * are common bullet symbols\n",
    "    cleaned = re.sub(r'[\\t\\n\\u2022\\-*•]', '', cleaned)\n",
    "    return cleaned\n"
   ]
  },
  {
   "cell_type": "code",
   "execution_count": 68,
   "metadata": {},
   "outputs": [
    {
     "data": {
      "text/plain": [
       "1631"
      ]
     },
     "execution_count": 68,
     "metadata": {},
     "output_type": "execute_result"
    }
   ],
   "source": [
    "cleaned_paragraphs = [clean_text(p) for p in paragraphs]\n",
    "len(cleaned_paragraphs)\n",
    "cleaned_paragraphs2 = [p for p in cleaned_paragraphs if len(p) > 30]\n",
    "len(cleaned_paragraphs2)"
   ]
  },
  {
   "cell_type": "markdown",
   "metadata": {},
   "source": [
    "### Pandas dataframe"
   ]
  },
  {
   "cell_type": "code",
   "execution_count": 69,
   "metadata": {},
   "outputs": [
    {
     "data": {
      "text/html": [
       "<div>\n",
       "<style scoped>\n",
       "    .dataframe tbody tr th:only-of-type {\n",
       "        vertical-align: middle;\n",
       "    }\n",
       "\n",
       "    .dataframe tbody tr th {\n",
       "        vertical-align: top;\n",
       "    }\n",
       "\n",
       "    .dataframe thead th {\n",
       "        text-align: right;\n",
       "    }\n",
       "</style>\n",
       "<table border=\"1\" class=\"dataframe\">\n",
       "  <thead>\n",
       "    <tr style=\"text-align: right;\">\n",
       "      <th></th>\n",
       "      <th>paragraph</th>\n",
       "    </tr>\n",
       "  </thead>\n",
       "  <tbody>\n",
       "  </tbody>\n",
       "</table>\n",
       "</div>"
      ],
      "text/plain": [
       "Empty DataFrame\n",
       "Columns: [paragraph]\n",
       "Index: []"
      ]
     },
     "execution_count": 69,
     "metadata": {},
     "output_type": "execute_result"
    }
   ],
   "source": [
    "# Convert to DataFrame\n",
    "df = pd.DataFrame(cleaned_paragraphs2, columns=[\"paragraph\"])\n",
    "\n",
    "# Show the result\n",
    "df.head(0)"
   ]
  },
  {
   "cell_type": "code",
   "execution_count": 70,
   "metadata": {},
   "outputs": [
    {
     "data": {
      "text/html": [
       "<div>\n",
       "<style scoped>\n",
       "    .dataframe tbody tr th:only-of-type {\n",
       "        vertical-align: middle;\n",
       "    }\n",
       "\n",
       "    .dataframe tbody tr th {\n",
       "        vertical-align: top;\n",
       "    }\n",
       "\n",
       "    .dataframe thead th {\n",
       "        text-align: right;\n",
       "    }\n",
       "</style>\n",
       "<table border=\"1\" class=\"dataframe\">\n",
       "  <thead>\n",
       "    <tr style=\"text-align: right;\">\n",
       "      <th></th>\n",
       "      <th>paragraph</th>\n",
       "    </tr>\n",
       "  </thead>\n",
       "  <tbody>\n",
       "    <tr>\n",
       "      <th>0</th>\n",
       "      <td>Updated methodology  Updated Technical Screening Criteria March 2020</td>\n",
       "    </tr>\n",
       "    <tr>\n",
       "      <th>1</th>\n",
       "      <td>2  About this report  This document includes an updated Part B Methodology from the June 2019 report and an updated Part F Full list of technical screening criteria. The other original sections from the June 2019 report can be found as labelled in the June 2019 report. PART A Explanation of the Taxonomy approach. This section sets out the role and importance of sustainable finance in Europe from a policy and investment perspective, the rationale for the development of an EU Taxonomy, the daft regulation and the mandate of the TEG. PART B Methodology. This explains the methodologies for developing technical screening criteria for climate change mitigation objectives, adaptation objectives and do no significant harm to other environmental objectives in the legislative proposal. This has been updated since 2019. PART C Taxonomy user and use case analysis. This section provides practical guidance to potential users of the Taxonomy, including case studies.  PART D Economic impacts of the Taxonomy. This section provides the TEGs analysis of the likely economic impacts of establishing an EU Taxonomy.  PART E  Next steps for the Taxonomy. This section elaborates on unresolved issues and potential ways forward for the Taxonomy and the technical work of the Platform on Sustainable Finance. PART F Full list of technical screening criteria. This annex sets out the sector and economic activityspecific technical screening criteria and rationale for the TEGs analysis. These have been updated since 2019.</td>\n",
       "    </tr>\n",
       "    <tr>\n",
       "      <th>2</th>\n",
       "      <td>Disclaimer This report represents the overall view of the members of the Technical Expert Group, and although it represents such a consensus, it may not necessarily, on all details, represent the individual views of member institutions or experts. The views reflected in this Report are the views of the experts only. This report does not reflect the views of the European Commission or its services.</td>\n",
       "    </tr>\n",
       "    <tr>\n",
       "      <th>3</th>\n",
       "      <td>3  Contents Methodology statements ....................................................................10 1. Substantial contribution to Climate change mitigation .......................................................... 10 1.1 Work process  conceptual approach ............................................................................ 10 1.2 Defining substantial contribution to climate change mitigation ....................................... 14 1.3 Eligibility of finance for activities contributing substantially to mitigation ........................ 16 1.4 Further development ....................................................................................................... 16 2. Substantial contribution to Climate change adaptation ......................................................... 18 2.1 Work process  conceptual approach ............................................................................ 18 2.2 Defining substantial contribution to climate change adaptation ..................................... 20 2.3 Screening criteria for activities making a substantial contribution to adaptation ............ 25 2.4 Eligibility of finance for activities contributing substantially to adaptation ....................... 27 2.5 Classification of climaterelated hazards ........................................................................ 28 3. Do no significant harm (DNSH) ............................................................................................. 29 3.1 DNSH to environmental objectives 36 ........................................................................... 29 3.2 DNSH to climate change adaptation ............................................................................... 29 3.3 DNSH to environmental objectives 36 ........................................................................... 31 Eligible NACE Codes  Points of Note .................................................36 3.4 Use of NACE ................................................................................................................... 36 3.5 Assessing the Taxonomy criteria for Green Debt and Loans ......................................... 37 Technical screening criteria substantial contribution to climate change mitigation ...............................................................................39 1. Forestry ................................................................................................................................. 40 1.1 Afforestation .................................................................................................................... 52 1.2 Rehabilitation, Restoration .............................................................................................. 60 1.3 Reforestation ................................................................................................................... 68 1.4 Existing forest management ........................................................................................... 76 1.5 Conservation forest ......................................................................................................... 85 2. Agriculture ........................................................................................................................... 102</td>\n",
       "    </tr>\n",
       "    <tr>\n",
       "      <th>4</th>\n",
       "      <td>4  2.1 Growing of perennial crops ........................................................................................... 112 2.3 Growing of nonperennial crops .................................................................................... 126 2.4 Livestock production ..................................................................................................... 140 3. Manufacturing...................................................................................................................... 155 3.1 Manufacture of Low carbon technologies ..................................................................... 162 3.2 Manufacture of Cement ................................................................................................ 167 3.3 Manufacture of Aluminium ............................................................................................ 172 3.4 Manufacture of Iron and Steel ...................................................................................... 176 3.5 Manufacture of Hydrogen ............................................................................................. 180 3.6 Manufacture of other inorganic basic chemicals .......................................................... 183 3.7 Manufacture of other organic basic chemicals ............................................................. 189 3.8 Manufacture of fertilizers and nitrogen compounds ...................................................... 196 3.9 Manufacture of plastics in primary form ........................................................................ 200 4. Electricity, gas, steam and air conditioning supply ............................................................. 205 4.1 Production of Electricity from Solar PV ......................................................................... 212 4.2 Production of Electricity from Concentrated Solar Power ............................................. 215 4.3 Production of Electricity from Wind Power.................................................................... 218 4.4 Production of Electricity from Ocean Energy ................................................................ 221 4.5 Production of Electricity from Hydropower.................................................................... 224 4.6 Production of Electricity from Geothermal .................................................................... 228 4.7 Production of Electricity from Gas (not exclusive to natural gas) ................................. 231 4.8 Production of Electricity from Bioenergy (Biomass, Biogas and Biofuels) ................... 234 4.9 Transmission and Distribution of Electricity .................................................................. 238 4.10 Storage of Electricity ..................................................................................................... 243 4.11 Storage of Thermal Energy ........................................................................................... 245 4.12 Storage of Hydrogen ..................................................................................................... 247 4.13 Manufacture of Biomass, Biogas or Biofuels ................................................................ 249 4.14 Retrofit of Gas Transmission and Distribution Networks .............................................. 252 4.15 District HeatingCooling Distribution ............................................................................. 255 4.16 Installation and operation of Electric Heat Pumps ........................................................ 258 4.17 Cogeneration of HeatCool and Power from Concentrated Solar Power ..................... 260 4.18 Cogeneration of HeatCool and Power from Geothermal Energy ................................ 263 4.19 Cogeneration of HeatCool and Power from Gas (not exclusive to natural gas) .......... 266</td>\n",
       "    </tr>\n",
       "  </tbody>\n",
       "</table>\n",
       "</div>"
      ],
      "text/plain": [
       "                                                                                                                                                                                                                                                                                                                                                                                                                                                                                                                                                                                                                                                                                                                                                                                                                                                                                                                                                                                                                                                                                                                                                                                                                                                                                                                                                                                                                                                                                                                                                                                                                                                                                                                                                                                                                                                                                                                                                                                                                                                                                                                                                                                                                                                                                                                                                                                                                                                                                                                                                                                                                                                                                                                                                                                                                                                                                                                                                                                                                                                                                                                                                                                                                                                                                                                                                                                                                                                                                                                                                                                                                                                                                                                                                                                                                                                                                                                                                                                                                                                                  paragraph\n",
       "0                                                                                                                                                                                                                                                                                                                                                                                                                                                                                                                                                                                                                                                                                                                                                                                                                                                                                                                                                                                                                                                                                                                                                                                                                                                                                                                                                                                                                                                                                                                                                                                                                                                                                                                                                                                                                                                                                                                                                                                                                                                                                                                                                                                                                                                                                                                                                                                                                                                                                                                                                                                                                                                                                                                                                                                                                                                                                                                                                                                                                                                                                                                                                                                                                                                                                                                                                                                                                                                                                                                                                                                                                                                                                                                                                                                                                                                                                                                                                                                                      Updated methodology  Updated Technical Screening Criteria March 2020\n",
       "1                                                                                                                                                                                                                                                                                                                                                                                                                                                                                                                                                                                                                                                                                                                                                                                                                                                                                                                                                                                                                                                                                                                                                                                                                                                                                                                                                                                                                                                                                                                                                                                                                                                                                                                                                                                                                                                                                                                                                                                                                                                                                                                                                                                                                                                                                                                                                                                                                                                                                                 2  About this report  This document includes an updated Part B Methodology from the June 2019 report and an updated Part F Full list of technical screening criteria. The other original sections from the June 2019 report can be found as labelled in the June 2019 report. PART A Explanation of the Taxonomy approach. This section sets out the role and importance of sustainable finance in Europe from a policy and investment perspective, the rationale for the development of an EU Taxonomy, the daft regulation and the mandate of the TEG. PART B Methodology. This explains the methodologies for developing technical screening criteria for climate change mitigation objectives, adaptation objectives and do no significant harm to other environmental objectives in the legislative proposal. This has been updated since 2019. PART C Taxonomy user and use case analysis. This section provides practical guidance to potential users of the Taxonomy, including case studies.  PART D Economic impacts of the Taxonomy. This section provides the TEGs analysis of the likely economic impacts of establishing an EU Taxonomy.  PART E  Next steps for the Taxonomy. This section elaborates on unresolved issues and potential ways forward for the Taxonomy and the technical work of the Platform on Sustainable Finance. PART F Full list of technical screening criteria. This annex sets out the sector and economic activityspecific technical screening criteria and rationale for the TEGs analysis. These have been updated since 2019.\n",
       "2                                                                                                                                                                                                                                                                                                                                                                                                                                                                                                                                                                                                                                                                                                                                                                                                                                                                                                                                                                                                                                                                                                                                                                                                                                                                                                                                                                                                                                                                                                                                                                                                                                                                                                                                                                                                                                                                                                                                                                                                                                                                                                                                                                                                                                                                                                                                                                                                                                                                                                                                                                                                                                                                                                                                                                                                                                                                                                                                                                                                                                                                                                                                                                                                                                                                                                                                                                                                                                                                                                                                                                                                                                                          Disclaimer This report represents the overall view of the members of the Technical Expert Group, and although it represents such a consensus, it may not necessarily, on all details, represent the individual views of member institutions or experts. The views reflected in this Report are the views of the experts only. This report does not reflect the views of the European Commission or its services.\n",
       "3                                                                                                                                                                                                                                                                                                                                                                                                                                                                                                                                                                                                                                3  Contents Methodology statements ....................................................................10 1. Substantial contribution to Climate change mitigation .......................................................... 10 1.1 Work process  conceptual approach ............................................................................ 10 1.2 Defining substantial contribution to climate change mitigation ....................................... 14 1.3 Eligibility of finance for activities contributing substantially to mitigation ........................ 16 1.4 Further development ....................................................................................................... 16 2. Substantial contribution to Climate change adaptation ......................................................... 18 2.1 Work process  conceptual approach ............................................................................ 18 2.2 Defining substantial contribution to climate change adaptation ..................................... 20 2.3 Screening criteria for activities making a substantial contribution to adaptation ............ 25 2.4 Eligibility of finance for activities contributing substantially to adaptation ....................... 27 2.5 Classification of climaterelated hazards ........................................................................ 28 3. Do no significant harm (DNSH) ............................................................................................. 29 3.1 DNSH to environmental objectives 36 ........................................................................... 29 3.2 DNSH to climate change adaptation ............................................................................... 29 3.3 DNSH to environmental objectives 36 ........................................................................... 31 Eligible NACE Codes  Points of Note .................................................36 3.4 Use of NACE ................................................................................................................... 36 3.5 Assessing the Taxonomy criteria for Green Debt and Loans ......................................... 37 Technical screening criteria substantial contribution to climate change mitigation ...............................................................................39 1. Forestry ................................................................................................................................. 40 1.1 Afforestation .................................................................................................................... 52 1.2 Rehabilitation, Restoration .............................................................................................. 60 1.3 Reforestation ................................................................................................................... 68 1.4 Existing forest management ........................................................................................... 76 1.5 Conservation forest ......................................................................................................... 85 2. Agriculture ........................................................................................................................... 102\n",
       "4    4  2.1 Growing of perennial crops ........................................................................................... 112 2.3 Growing of nonperennial crops .................................................................................... 126 2.4 Livestock production ..................................................................................................... 140 3. Manufacturing...................................................................................................................... 155 3.1 Manufacture of Low carbon technologies ..................................................................... 162 3.2 Manufacture of Cement ................................................................................................ 167 3.3 Manufacture of Aluminium ............................................................................................ 172 3.4 Manufacture of Iron and Steel ...................................................................................... 176 3.5 Manufacture of Hydrogen ............................................................................................. 180 3.6 Manufacture of other inorganic basic chemicals .......................................................... 183 3.7 Manufacture of other organic basic chemicals ............................................................. 189 3.8 Manufacture of fertilizers and nitrogen compounds ...................................................... 196 3.9 Manufacture of plastics in primary form ........................................................................ 200 4. Electricity, gas, steam and air conditioning supply ............................................................. 205 4.1 Production of Electricity from Solar PV ......................................................................... 212 4.2 Production of Electricity from Concentrated Solar Power ............................................. 215 4.3 Production of Electricity from Wind Power.................................................................... 218 4.4 Production of Electricity from Ocean Energy ................................................................ 221 4.5 Production of Electricity from Hydropower.................................................................... 224 4.6 Production of Electricity from Geothermal .................................................................... 228 4.7 Production of Electricity from Gas (not exclusive to natural gas) ................................. 231 4.8 Production of Electricity from Bioenergy (Biomass, Biogas and Biofuels) ................... 234 4.9 Transmission and Distribution of Electricity .................................................................. 238 4.10 Storage of Electricity ..................................................................................................... 243 4.11 Storage of Thermal Energy ........................................................................................... 245 4.12 Storage of Hydrogen ..................................................................................................... 247 4.13 Manufacture of Biomass, Biogas or Biofuels ................................................................ 249 4.14 Retrofit of Gas Transmission and Distribution Networks .............................................. 252 4.15 District HeatingCooling Distribution ............................................................................. 255 4.16 Installation and operation of Electric Heat Pumps ........................................................ 258 4.17 Cogeneration of HeatCool and Power from Concentrated Solar Power ..................... 260 4.18 Cogeneration of HeatCool and Power from Geothermal Energy ................................ 263 4.19 Cogeneration of HeatCool and Power from Gas (not exclusive to natural gas) .......... 266"
      ]
     },
     "execution_count": 70,
     "metadata": {},
     "output_type": "execute_result"
    }
   ],
   "source": [
    "df.head()"
   ]
  },
  {
   "cell_type": "code",
   "execution_count": 71,
   "metadata": {},
   "outputs": [],
   "source": [
    "df.to_csv(\"data/paragraphs.csv\", index=False)"
   ]
  },
  {
   "cell_type": "code",
   "execution_count": null,
   "metadata": {},
   "outputs": [],
   "source": []
  }
 ],
 "metadata": {
  "kernelspec": {
   "display_name": "venv",
   "language": "python",
   "name": "python3"
  },
  "language_info": {
   "codemirror_mode": {
    "name": "ipython",
    "version": 3
   },
   "file_extension": ".py",
   "mimetype": "text/x-python",
   "name": "python",
   "nbconvert_exporter": "python",
   "pygments_lexer": "ipython3",
   "version": "3.10.15"
  }
 },
 "nbformat": 4,
 "nbformat_minor": 2
}
