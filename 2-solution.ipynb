{
 "cells": [
  {
   "cell_type": "markdown",
   "metadata": {},
   "source": [
    "# Milestone 2"
   ]
  },
  {
   "cell_type": "markdown",
   "metadata": {},
   "source": [
    "Start off by loading the paragraphs from previous milestone into a pandas dataframe. Then Set up a list of the questions."
   ]
  },
  {
   "cell_type": "code",
   "execution_count": 1,
   "metadata": {},
   "outputs": [],
   "source": [
    "import pandas as pd\n",
    "\n",
    "df = pd.read_csv(\"paragraphs.csv\")\n",
    "\n",
    "questions = [\n",
    "    [\"What fuel is used for manufacturing of chlorine?\"],\n",
    "    [\"What metric is used for evaluating emission?\"],\n",
    "    [\"How can carbon emission of the processes of cement clinker be reduced?\"],\n",
    "    [\"How is the Weighted Cogeneration Threshold calculated?\"],\n",
    "    [\"What is carbon capture and sequestration?\"],\n",
    "    [\"What stages does CCS consist of?\"],\n",
    "    [\"What should be the average energy consumption of a water supply system?\"],\n",
    "    [\"What are examples of sludge treatments?\"],\n",
    "    [\"How is the process of anaerobic digestion?\"],\n",
    "    [\"How is reforestation defined?\"],\n",
    "    [\"What is the threshold of emssion for inland passenger water transport?\"], \n",
    "    [\"What are the requirements of reporting for electricity generation from natural gas where there might be fugative emissions?\"]\n",
    "]"
   ]
  },
  {
   "cell_type": "markdown",
   "metadata": {},
   "source": [
    "The first method we want to test out for getting the representations for the paragraphs is Term Frequency Inverse Document Frequency (TFIDF). We will use the scikit learn package. Note that I am not filtering out the stop words here, this is can be something worth doing."
   ]
  },
  {
   "cell_type": "code",
   "execution_count": 2,
   "metadata": {},
   "outputs": [],
   "source": [
    "from sklearn.feature_extraction.text import TfidfVectorizer\n",
    "\n",
    "vectorizer = TfidfVectorizer()\n",
    "vector_corpus = vectorizer.fit_transform(df[\"paragraph\"])"
   ]
  },
  {
   "cell_type": "markdown",
   "metadata": {},
   "source": [
    "Once we have the TFIDF vectorizer and the corpus vectorized we want to iterate over the questions and get the vector. We use the linear kernal to calculate the distance between the question representation and the corpus vectors."
   ]
  },
  {
   "cell_type": "code",
   "execution_count": 3,
   "metadata": {},
   "outputs": [],
   "source": [
    "from sklearn.metrics.pairwise import linear_kernel\n",
    "\n",
    "qcontexts = []\n",
    "for question in questions:\n",
    "    q_v = vectorizer.transform(question)\n",
    "    lk_rank = linear_kernel(q_v, vector_corpus).flatten()\n",
    "    qcontexts.append((question, df[\"paragraph\"][lk_rank.argsort()[-1]]))"
   ]
  },
  {
   "cell_type": "markdown",
   "metadata": {},
   "source": [
    "For comparison we will try to get the Doc2vec representation as well and see how it will perform. The package used here is `gensim` and it has a built in similarity measure. "
   ]
  },
  {
   "cell_type": "code",
   "execution_count": 4,
   "metadata": {},
   "outputs": [],
   "source": [
    "import gensim\n",
    "\n",
    "def read_corpus(text, tokens_only=False):\n",
    "    for i, line in enumerate(text):\n",
    "        tokens = gensim.utils.simple_preprocess(line)\n",
    "        if tokens_only:\n",
    "            yield tokens\n",
    "        else:\n",
    "            # For training data, add tags\n",
    "            yield gensim.models.doc2vec.TaggedDocument(tokens, [i])\n",
    "\n",
    "corpus = list(read_corpus(df[\"paragraph\"].values))\n",
    "model = gensim.models.doc2vec.Doc2Vec(vector_size=50, min_count=2, epochs=40)\n",
    "model.build_vocab(corpus)\n",
    "model.train(corpus, total_examples=model.corpus_count, epochs=model.epochs)\n",
    "qcontext_doc2vec = []\n",
    "for question in questions:\n",
    "    q1 = list(read_corpus(question, tokens_only=True))\n",
    "    inferred_vector = model.infer_vector(q1[0])\n",
    "    sims = model.docvecs.most_similar([inferred_vector], topn=len(model.docvecs))\n",
    "    qcontext_doc2vec.append((question, df[\"paragraph\"][sims[0][0]]))"
   ]
  },
  {
   "cell_type": "markdown",
   "metadata": {},
   "source": [
    "As a last step we print the results so we can evaluate the diffrent methods."
   ]
  },
  {
   "cell_type": "code",
   "execution_count": 5,
   "metadata": {},
   "outputs": [
    {
     "name": "stdout",
     "output_type": "stream",
     "text": [
      "What fuel is used for manufacturing of chlorine?\n",
      "tfidf: For chlorine the value corresponding to an efficient level of electricity consumption was selected as the threshold given that the main source of energy used for the production of chlorine is electricity and by improving the energy efficiency of the process as well as using low carbon electricity sources  the activity can substantially contribute to the climate change mitigation objective\n",
      "\n",
      "doc2vec: For some corporates who manufacture as well as sell the end products they may attribute revenue to the end product rather than to the manufacturing process Technical screening criteria in this report lays out expectations of the manufacturing process When aligning testing criteria to manufacturing it may be necessary to review revenue classified to the sale of the end product by the same organisation even though the eligible activity would be assessed within the manufacturing processes This is not a supply chain assessment the corporate needs to own the manufacturing process to qualify\n",
      "--------------------\n",
      "What metric is used for evaluating emission?\n",
      "tfidf: The threshold metric is gCO2e and not an intensity metric such as gCO2e unit of production as this enables the Taxonomy to be applied by both those reducing emission intensity eg through efficiency while also requiring them to reduce emissions overall  the overall goal\n",
      "\n",
      "doc2vec: 1a For the purposes of paragraph 1 an economic activity for which there is no technologically and economically feasible low carbon alternative shall be considered to contribute substantially to climate change mitigation as it supports the transition to a climateneutral economy consistent with a pathway to limit the temperature increase to 15 degrees Celsius above preindustrial levels including by phasing out greenhouse gas emissions in particular from solid fossil fuels where that activity\n",
      "--------------------\n",
      "How can carbon emission of the processes of cement clinker be reduced?\n",
      "tfidf: cement eg concrete for specific building applications The focus should be on the substitution of clinker by binders with a lower content of embedded CO2 Cement is currently produced in many different qualities which are sometimes used in different applications As a result exchange between two qualities is not always possible Therefore on the way to a climateneutral economy it has to be determined which types of cement in which application areas can be replaced by those with a reduced clinker content taking into account the availability of clinker substitutes Within the decarbonisation of other industries it may be possible that material flows used today eg fly ash will no longer be available in the future as a clinker substitute while the suitability of other materials has not yet been proven The cement types which are absolutely necessary in a climateneutral economy and cannot be replaced must be produced in a climatefriendly way For these types it then should be examined to what extent the clinker ratio can be lowered how energy efficiency can be increased how electricity from renewable energies can be used etc\n",
      "\n",
      "doc2vec: Any electricity generation technology can be included in the taxonomy if it can be demonstrated using an ISO 14067 or a GHG Protocol Product Lifecycle Standard compliant Product Carbon Footprint PCF assessment that the life cycle impacts for producing 1 kWh of electricity are below the declining threshold\n",
      "--------------------\n",
      "How is the Weighted Cogeneration Threshold calculated?\n",
      "tfidf: The threshold will be set at a single value for all new investments in electricity generation until it is revised in future It applies equally to the production of heating  cooling and cogeneration of heat and electricity\n",
      "\n",
      "doc2vec: An overarching technologyagnostic emissions intensity threshold of 100g CO2e  kWh is proposed for electricity generation heat production and the cogeneration of heat and electricity This threshold will be reduced every five years in line with political targets set out to achieve netzero emissions by 2050\n",
      "--------------------\n",
      "What is carbon capture and sequestration?\n",
      "tfidf: The Technical Expert Group has developed criteria to define the eligibility of facilities used to capture carbon dioxide directly from the atmosphere and separately to capture carbon dioxide directly from anthropogenic activities\n",
      "\n",
      "doc2vec: For sitesoperations located in or near to biodiversitysensitive areas including the Natura 2000 network of protected areas as well as other protected areas ensure that an appropriate assessment has been conducted in compliance with the provisions of the EU Biodiversity Strategy COM 2011 244 the Birds 2009147EC and Habitats 9243EEC Directives or other equivalent national provisions or international standards eg IFC Performance Standard 6  whichever is stricter  in case of sitesoperations in nonEU countries based on the conservation objectives of the protected area For such sitesoperations ensure that\n",
      "--------------------\n",
      "What stages does CCS consist of?\n",
      "tfidf: A typical CCS chain consists of three main stages capture transport and storage CO2 transport and storage are established and proven processes with decades of operation and wellestablished regulation here in Europe\n",
      "\n",
      "doc2vec: Ensure an Environmental Impact Assessment EIA has been completed in accordance with the EU Directives on Environmental Impact Assessment 201452EU and Strategic Environmental Assessment 200142EC or other equivalent national provisions or international standards eg IFC Performance Standard 1 Assessment and Management of Environmental and Social Risks  whichever is stricter  in the case of sitesoperations in nonEU countries for the siteoperation including ancillary services eg transport infrastructure and operations waste disposal facilities etc and any required mitigation measures for\n",
      "--------------------\n",
      "What should be the average energy consumption of a water supply system?\n",
      "tfidf: An average energy consumption of a water supply system of 05 kwh per cubic meter billedunbilled authorized water supply indicates a high performing system in terms of energy consumption Several energy efficiency measures can reduce directly the energy consumption in a water supply system enabling significant reductions of GHG emissions these are inter alia\n",
      "\n",
      "doc2vec: Storage of thermal energy is one way of making use at a later time of thermal energy that is available at a time of low demand It could thus avoid the need to produce the thermal energy with fossil fuels\n",
      "--------------------\n",
      "What are examples of sludge treatments?\n",
      "tfidf: Anaerobic Digestion AD and in some cases aerobic digestion are examples of sludge treatments In AD microorganisms decompose the organic matter of the sludge in the absence of oxygen and produce methanerich biogas\n",
      "\n",
      "doc2vec: Implement appropriate measures to avoid and mitigate combined sewer overflow in case of heavy rainfall such as Naturebased solutions separate rainwater collection systems retention tanks and  or treatment of the first flush\n",
      "--------------------\n",
      "How is the process of anaerobic digestion?\n",
      "tfidf: The main issues raised in the public feedback on activities in the subsector WSWR related to broadening the scope of some activities For anaerobic digestion of biowaste and similar for anaerobic digestion of sewage sludge and landfill gas capture and utilization respondents suggested to allow for additional uses of the produced biogas or landfill gas For the anaerobic digestion of biowaste respondents warned against the exclusion of certain crops and against the exclusion of blending of feedstocks Both issues are reflected in the revised criteria\n",
      "\n",
      "doc2vec: Anaerobic digestion AD is a process by which microorganisms decompose biodegradable material in the absence of oxygen As part of an integrated waste management system AD is a valid route to divert biodegradable waste from landfilling and thus reduce the uncontrolled emissions of landfill gas in particular methane The AD process produces methanerich biogas under controlled conditions and a sludgelike or liquid residue termed digestate Biogas can be used in multiple forms and applications that displace fossil fuels\n",
      "--------------------\n",
      "How is reforestation defined?\n",
      "tfidf: Different Forest NACE The current proposal for a Forest Taxonomy includes five NACE sector distinctions Afforestation Reforestation Rehabilitationrestoration Existing Forest Management and Conservation Forests Would it be necessary to establish a link between the use of wood products in another economy NACE and a specific forest sector NACE If so which one as all form part of the forest management system How would this be done and what if a product is used in multiple NACE categories how to count the multiple substitution\n",
      "\n",
      "doc2vec: Mitigation measures are eligible provided they are incorporated into a single investment plan within a determined time frame 5 or 10 years that outlines how each of the measures in combination with others will in combination enable the activity to meet the threshold defined below actions\n",
      "--------------------\n",
      "What is the threshold of emssion for inland passenger water transport?\n",
      "tfidf: The threshold of 50g CO2epkm relates to the thresholds set for road passenger vehicles and passenger rail The criteria is based on actual ridership passengerkm and not capacity offered seat km or placeskm This should be justified through real monitoring data from operations or exante demand assessments If inland passenger water transport operations can at least match the thresholds of those modes it is deemed to be making a substantial contribution as it offers significantly lower emissions than average car emissions\n",
      "\n",
      "doc2vec: The carbon intensity of freight rail even if diesel is in most cases significantly lower than road freight transport rail freight transport at least meeting the threshold proposed in the road transport HDV criteria is eligible Average direct emissions for diesel rail is in the range of 1840 g CO2\n",
      "--------------------\n",
      "What are the requirements of reporting for electricity generation from natural gas where there might be fugative emissions?\n",
      "tfidf: According to the methodology to calculate ETS benchmarks emissions from electricity are considered where direct emissions and indirect emissions from electricity are to a certain level interchangeable\n",
      "\n",
      "doc2vec: Rationale for energy efficiency versus emission reduction as mitigation principle low or zero emissions can be achieved by sourcing electricity from renewable sources from the grid or on site Given the mounting competition for renewable energy an expected greening of the energy system and the projected growth of electricity consumption deriving from the digitalisation of the economy inclusion in the Taxonomy will only depend on energy efficiency\n",
      "--------------------\n"
     ]
    }
   ],
   "source": [
    "for ic,(question, context)  in enumerate(qcontexts):\n",
    "    print(question[0])\n",
    "    print(f\"tfidf: {context}\\n\\ndoc2vec: {qcontext_doc2vec[ic][1]}\")\n",
    "    print(\"-\"*20)"
   ]
  }
 ],
 "metadata": {
  "kernelspec": {
   "display_name": "Python 3 (ipykernel)",
   "language": "python",
   "name": "python3"
  },
  "language_info": {
   "codemirror_mode": {
    "name": "ipython",
    "version": 3
   },
   "file_extension": ".py",
   "mimetype": "text/x-python",
   "name": "python",
   "nbconvert_exporter": "python",
   "pygments_lexer": "ipython3",
   "version": "3.8.10"
  }
 },
 "nbformat": 4,
 "nbformat_minor": 2
}
