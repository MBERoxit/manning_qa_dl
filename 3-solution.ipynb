{
 "cells": [
  {
   "cell_type": "markdown",
   "metadata": {},
   "source": [
    "# Milestone 3"
   ]
  },
  {
   "cell_type": "markdown",
   "metadata": {},
   "source": [
    "We start by deciding what model to use, you can find all the models at `huggingface.co/models`. I have chosen the finetund `distilbert` on SQuAD since it does not require a lot of RAM to run and yet performs quite well. Secondly we decide the amount of data which we want to test the model on. "
   ]
  },
  {
   "cell_type": "code",
   "execution_count": 1,
   "metadata": {},
   "outputs": [],
   "source": [
    "MODEL = \"distilbert-base-uncased-distilled-squad\"\n",
    "TEST_SAMPLE_SIZE = 1000"
   ]
  },
  {
   "cell_type": "markdown",
   "metadata": {},
   "source": [
    "We load the SQuAD dataset and save it in a list of triples consisting of the question, answer and context. Then we take a sample of that. "
   ]
  },
  {
   "cell_type": "code",
   "execution_count": 2,
   "metadata": {},
   "outputs": [],
   "source": [
    "import random\n",
    "import json\n",
    "\n",
    "with open(\"data/dev-v2.0.json\") as f:\n",
    "    data = json.load(f)\n",
    "\n",
    "def get_qustion_answers_context(data):\n",
    "    qac = []\n",
    "    for idata in data[\"data\"]:\n",
    "        for paragraph in idata[\"paragraphs\"]:\n",
    "            for question in paragraph[\"qas\"]:\n",
    "                answers = [answer[\"text\"] for answer in question[\"answers\"]]\n",
    "                qac.append((question[\"question\"], answers , paragraph[\"context\"]))\n",
    "    return qac\n",
    "\n",
    "qac = random.sample(get_qustion_answers_context(data), TEST_SAMPLE_SIZE)"
   ]
  },
  {
   "cell_type": "markdown",
   "metadata": {},
   "source": [
    "Next we want to build our Exact Matching scoring function, this function will get the list of triples and the Question Answering model(which we will set up later). The function will check how many exact matches it the model provides. "
   ]
  },
  {
   "cell_type": "code",
   "execution_count": 3,
   "metadata": {},
   "outputs": [],
   "source": [
    "def get_em_scores(qac, qa_model):\n",
    "    score = []\n",
    "    for question, answers, context in qac:\n",
    "        answer = qa_model(question=question, context=context)\n",
    "        if not answer and not answers:\n",
    "            score.append(True)\n",
    "        else:\n",
    "            score.append(any([answer.lower()==ans.lower() for ans in answers]))\n",
    "    return score\n"
   ]
  },
  {
   "cell_type": "markdown",
   "metadata": {},
   "source": [
    "By using the `pipline` there is not much set-up needed and can be used as a blackbox. We want to filter out answers which have a lower score since if the model is not certain then perhaps there is not answer. The answer extracted might have some characters at the beginning or end that are not desirable, to avoid that we strip off some potential ones."
   ]
  },
  {
   "cell_type": "code",
   "execution_count": 4,
   "metadata": {},
   "outputs": [
    {
     "name": "stderr",
     "output_type": "stream",
     "text": [
      "2023-02-26 17:13:51.294165: I tensorflow/core/platform/cpu_feature_guard.cc:193] This TensorFlow binary is optimized with oneAPI Deep Neural Network Library (oneDNN) to use the following CPU instructions in performance-critical operations:  AVX2 AVX512F AVX512_VNNI FMA\n",
      "To enable them in other operations, rebuild TensorFlow with the appropriate compiler flags.\n",
      "2023-02-26 17:13:51.377715: I tensorflow/core/util/port.cc:104] oneDNN custom operations are on. You may see slightly different numerical results due to floating-point round-off errors from different computation orders. To turn them off, set the environment variable `TF_ENABLE_ONEDNN_OPTS=0`.\n",
      "2023-02-26 17:13:51.380273: W tensorflow/compiler/xla/stream_executor/platform/default/dso_loader.cc:64] Could not load dynamic library 'libcudart.so.11.0'; dlerror: libcudart.so.11.0: cannot open shared object file: No such file or directory\n",
      "2023-02-26 17:13:51.380283: I tensorflow/compiler/xla/stream_executor/cuda/cudart_stub.cc:29] Ignore above cudart dlerror if you do not have a GPU set up on your machine.\n",
      "2023-02-26 17:13:51.802252: W tensorflow/compiler/xla/stream_executor/platform/default/dso_loader.cc:64] Could not load dynamic library 'libnvinfer.so.7'; dlerror: libnvinfer.so.7: cannot open shared object file: No such file or directory\n",
      "2023-02-26 17:13:51.802284: W tensorflow/compiler/xla/stream_executor/platform/default/dso_loader.cc:64] Could not load dynamic library 'libnvinfer_plugin.so.7'; dlerror: libnvinfer_plugin.so.7: cannot open shared object file: No such file or directory\n",
      "2023-02-26 17:13:51.802287: W tensorflow/compiler/tf2tensorrt/utils/py_utils.cc:38] TF-TRT Warning: Cannot dlopen some TensorRT libraries. If you would like to use Nvidia GPU with TensorRT, please make sure the missing libraries mentioned above are installed properly.\n"
     ]
    }
   ],
   "source": [
    "from transformers import pipeline\n",
    "\n",
    "qamodel = pipeline(\"question-answering\", model=MODEL, tokenizer=MODEL, device=-1)\n",
    "\n",
    "def get_answer_pipeline(question, context):\n",
    "    answer = qamodel(question=question, context=context)\n",
    "    if answer[\"score\"] < 0.6:\n",
    "        return \"\"\n",
    "    else:\n",
    "        return answer[\"answer\"].rstrip(\".\").rstrip(\",\").lstrip(\"(\").rstrip(\")\").rstrip(\".\").strip(\"'\").strip(\":\")\n"
   ]
  },
  {
   "cell_type": "markdown",
   "metadata": {},
   "source": [
    "Final step here is to get the Exact Matching score"
   ]
  },
  {
   "cell_type": "code",
   "execution_count": 5,
   "metadata": {},
   "outputs": [
    {
     "name": "stdout",
     "output_type": "stream",
     "text": [
      "0.53\n"
     ]
    }
   ],
   "source": [
    "scores = get_em_scores(qac, get_answer_pipeline)\n",
    "print(sum(scores)/len(scores))"
   ]
  },
  {
   "cell_type": "markdown",
   "metadata": {},
   "source": [
    "If you chose to not use the `pipeline` and want to set up the Question Answering model yourself by using the `AutoTokenizer` and `AutoModel` you can look at the example below. This requires a bit more work but gives you better ability to adjust some parameters. We estimate the score here by taking the mean between the start and end score. "
   ]
  },
  {
   "cell_type": "code",
   "execution_count": 6,
   "metadata": {},
   "outputs": [],
   "source": [
    "from transformers import AutoTokenizer, AutoModelForQuestionAnswering\n",
    "import torch\n",
    "import numpy as np\n",
    "\n",
    "tokenizer = AutoTokenizer.from_pretrained(MODEL)\n",
    "model = AutoModelForQuestionAnswering.from_pretrained(MODEL)\n",
    "\n",
    "\n",
    "def get_answer(question, context):\n",
    "    inputs = tokenizer.encode_plus(question, \n",
    "                                   context, \n",
    "                                   add_special_tokens=True, \n",
    "                                   return_tensors=\"pt\", \n",
    "                                   max_length=tokenizer.model_max_length, truncation=True)\n",
    "    input_ids = inputs[\"input_ids\"].tolist()[0]\n",
    "\n",
    "    with torch.no_grad():\n",
    "        answer_start_scores, answer_end_scores = model(**inputs, return_dict=False)\n",
    "        answer_start_scores, answer_end_scores = answer_start_scores.cpu().numpy(), answer_end_scores.cpu().numpy()\n",
    "        \n",
    "    answer_start = np.argmax(\n",
    "        answer_start_scores\n",
    "    )  # Get the most likely beginning of answer with the argmax of the score\n",
    "    answer_end = np.argmax(\n",
    "        answer_end_scores\n",
    "    ) + 1  # Get the most likely end of answer with the argmax of the score\n",
    "    \n",
    "    # Normalize logits and spans to retrieve the answer\n",
    "    start_ = np.exp(answer_start_scores - np.log(np.sum(np.exp(answer_start_scores), axis=-1, keepdims=True)))\n",
    "    end_ = np.exp(answer_end_scores - np.log(np.sum(np.exp(answer_end_scores), axis=-1, keepdims=True)))\n",
    "    score = np.mean([start_[0][answer_start], end_[0][answer_end-1]])\n",
    "    \n",
    "    if score > 0.9:\n",
    "        answer = tokenizer.convert_tokens_to_string(tokenizer.convert_ids_to_tokens(input_ids[answer_start:answer_end]))\n",
    "        return answer\n",
    "    else:\n",
    "        return \"\""
   ]
  },
  {
   "cell_type": "markdown",
   "metadata": {},
   "source": [
    "And here is the Exact Matching score for the model above"
   ]
  },
  {
   "cell_type": "code",
   "execution_count": 7,
   "metadata": {},
   "outputs": [
    {
     "name": "stdout",
     "output_type": "stream",
     "text": [
      "0.529\n"
     ]
    }
   ],
   "source": [
    "scores = get_em_scores(qac, get_answer)\n",
    "print(sum(scores)/len(scores))\n"
   ]
  }
 ],
 "metadata": {
  "kernelspec": {
   "display_name": "Python 3 (ipykernel)",
   "language": "python",
   "name": "python3"
  },
  "language_info": {
   "codemirror_mode": {
    "name": "ipython",
    "version": 3
   },
   "file_extension": ".py",
   "mimetype": "text/x-python",
   "name": "python",
   "nbconvert_exporter": "python",
   "pygments_lexer": "ipython3",
   "version": "3.8.10"
  }
 },
 "nbformat": 4,
 "nbformat_minor": 2
}
